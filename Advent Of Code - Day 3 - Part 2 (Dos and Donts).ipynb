{
 "cells": [
  {
   "cell_type": "code",
   "execution_count": 2,
   "id": "a54a6309-987c-4159-9dc0-a77ede33e0ce",
   "metadata": {},
   "outputs": [],
   "source": [
    "import re"
   ]
  },
  {
   "cell_type": "code",
   "execution_count": 3,
   "id": "7fca7726-6fa9-472b-9b1e-b4021fb4140e",
   "metadata": {},
   "outputs": [],
   "source": [
    "example_string = \"xmul(2,4)&mul[3,7]!^don't()_mul(5,5)+mul(32,64](mul(11,8)undo()?mul(8,5))\""
   ]
  },
  {
   "cell_type": "code",
   "execution_count": 4,
   "id": "c63722e9-013b-46df-a53d-d30fb9b7fc46",
   "metadata": {},
   "outputs": [],
   "source": [
    "input_file = \"AdventOfCode_Day3_input.txt\"\n",
    "# open input file\n",
    "with open(input_file, \"r\") as text_file:\n",
    "    file = text_file.read()"
   ]
  },
  {
   "cell_type": "code",
   "execution_count": 5,
   "id": "af196a76-d809-465f-80d9-6d56b4cd4b11",
   "metadata": {},
   "outputs": [],
   "source": [
    "currupted_string = file"
   ]
  },
  {
   "cell_type": "code",
   "execution_count": 6,
   "id": "c3195fba-83fb-475b-93d1-184abf3c4255",
   "metadata": {},
   "outputs": [],
   "source": [
    "mul_words =[]\n",
    "first_index = 0\n",
    "\n",
    "do = True\n",
    "# loop to find the first instance of )\n",
    "for last_index, last_letter in enumerate(currupted_string):\n",
    "    # if ) \n",
    "    if last_letter == \")\":\n",
    "        # section everything from last section to end this section)\n",
    "        section = currupted_string[first_index:last_index+1]\n",
    "        # work backwards to get the first m or is it the second :/\n",
    "        reverse_section = section[::-1]\n",
    "        for d_index, d_letter in enumerate(reverse_section):\n",
    "            if d_letter == \"d\":\n",
    "                # calc start to d\n",
    "                reverse_section = reverse_section[:d_index+1]\n",
    "                section = reverse_section[::-1]\n",
    "                if section == \"do()\":\n",
    "                    do = True\n",
    "                elif section == \"don't()\":\n",
    "                    do = False\n",
    "        \n",
    "        for m_index, m_letter in enumerate(reverse_section):\n",
    "            if m_letter == \"m\":\n",
    "                # calc start to m\n",
    "                reverse_section = reverse_section[:m_index+1]\n",
    "                # reverse it again\n",
    "                section = reverse_section[::-1]\n",
    "                # check section starts with mul\n",
    "                # check that section contains a comma\n",
    "                # checl that ( and ) appears once\n",
    "                if section.startswith(\"mul(\") and \",\" in section and section.count(\"(\") == 1 and section.count(\")\") == 1:\n",
    "                    if do:\n",
    "                        mul_words.append(section)\n",
    "                        first_index = last_index+1\n",
    "                        break"
   ]
  },
  {
   "cell_type": "raw",
   "id": "e9e58578-a4ac-4b6f-b0ad-b5f0419bbef4",
   "metadata": {},
   "source": [
    "# final check\n",
    "print(\"mul word length: \", len(mul_words))\n",
    "for m in mul_words:\n",
    "    print(m)\n",
    "    "
   ]
  },
  {
   "cell_type": "code",
   "execution_count": 7,
   "id": "f697c872-0272-4f55-a693-48ae77b56b30",
   "metadata": {},
   "outputs": [],
   "source": [
    "mul_sets_multipled = []\n",
    "for mul in mul_words:\n",
    "    start_index = mul.find(\"(\")\n",
    "    end_index = mul.find(\")\")\n",
    "    \n",
    "    if start_index != -1 and end_index != -1:\n",
    "        numbers = mul[start_index + 1:end_index]\n",
    "        num_list = numbers.split(\",\")\n",
    "        mul_sets_multipled.append(int(num_list[0])*int(num_list[1]))"
   ]
  },
  {
   "cell_type": "code",
   "execution_count": 8,
   "id": "83222edc-7962-4af4-8a5c-bba5bee555e3",
   "metadata": {},
   "outputs": [
    {
     "name": "stdout",
     "output_type": "stream",
     "text": [
      "total is  92082041\n"
     ]
    }
   ],
   "source": [
    "print(\"total is \", sum(mul_sets_multipled))"
   ]
  }
 ],
 "metadata": {
  "kernelspec": {
   "display_name": "Python 3 (ipykernel)",
   "language": "python",
   "name": "python3"
  },
  "language_info": {
   "codemirror_mode": {
    "name": "ipython",
    "version": 3
   },
   "file_extension": ".py",
   "mimetype": "text/x-python",
   "name": "python",
   "nbconvert_exporter": "python",
   "pygments_lexer": "ipython3",
   "version": "3.12.7"
  }
 },
 "nbformat": 4,
 "nbformat_minor": 5
}
