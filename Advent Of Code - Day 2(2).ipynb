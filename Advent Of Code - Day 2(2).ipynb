{
 "cells": [
  {
   "cell_type": "code",
   "execution_count": 1,
   "id": "eaa95999-6c25-4f5b-9863-6b970d44b880",
   "metadata": {},
   "outputs": [],
   "source": [
    "example_reports = [\n",
    "        [7, 6, 4, 2, 1],\n",
    "        [1, 2, 7, 8, 9],\n",
    "        [9, 7, 6, 2, 1],\n",
    "        [1, 3, 2, 4, 5],\n",
    "        [8, 6, 4, 4, 1],\n",
    "        [1, 3, 6, 7, 9]]"
   ]
  },
  {
   "cell_type": "code",
   "execution_count": 2,
   "id": "bf242909-71cf-4ea2-81a3-86a1e837c795",
   "metadata": {},
   "outputs": [],
   "source": [
    "input_file = \"AdventOfCode_Day2_input.txt\"\n",
    "# open input file\n",
    "with open(input_file, \"r\") as text_file:\n",
    "    file = text_file.readlines()"
   ]
  },
  {
   "cell_type": "code",
   "execution_count": 3,
   "id": "64a44a62-dea6-4fba-98f7-329df4af683c",
   "metadata": {},
   "outputs": [],
   "source": [
    "reports = []\n",
    "for line in file:\n",
    "    temp_list = line.split()\n",
    "    int_list = list(map(int, temp_list))\n",
    "    reports.append(int_list)"
   ]
  },
  {
   "cell_type": "code",
   "execution_count": 4,
   "id": "42b4476d-0a0b-425f-881d-351dec5c392a",
   "metadata": {},
   "outputs": [
    {
     "name": "stdout",
     "output_type": "stream",
     "text": [
      "No of reports Total:  1000\n"
     ]
    }
   ],
   "source": [
    "reports = reports\n",
    "print(\"No of reports Total: \", len(reports))"
   ]
  },
  {
   "cell_type": "code",
   "execution_count": 5,
   "id": "3f6cf000-2efa-4326-85dc-22e2b66a9052",
   "metadata": {},
   "outputs": [
    {
     "name": "stdout",
     "output_type": "stream",
     "text": [
      "Safe Reports: 390\n"
     ]
    }
   ],
   "source": [
    "# PART 1\n",
    "safe_reports = []\n",
    "# list in lists\n",
    "for report in reports:\n",
    "    \n",
    "    if report == sorted(report) or report == sorted(report, reverse=True):\n",
    "        s_report = sorted(report)\n",
    "        \n",
    "        differ = False        \n",
    "        for i in range(len(s_report) - 1):\n",
    "            curr_ele = s_report[i]\n",
    "            next_ele = s_report[i + 1]\n",
    "            calc = next_ele - curr_ele\n",
    "            \n",
    "            if calc > 3 or calc < 1:\n",
    "                differ = True\n",
    "                \n",
    "        if differ == False:\n",
    "            safe_reports.append(report)  \n",
    "\n",
    "print(\"Safe Reports:\", len(safe_reports))"
   ]
  },
  {
   "cell_type": "code",
   "execution_count": 6,
   "id": "d20d3d64-b375-412b-92c5-a89122846d48",
   "metadata": {},
   "outputs": [],
   "source": [
    "def is_report_safe(report):\n",
    "    increasing = True\n",
    "    decreasing = True\n",
    "\n",
    "    # loop over report and find difference\n",
    "    for i in range(len(report) - 1):\n",
    "        diff = report[i + 1] - report[i]\n",
    "        # if postive and not out of range\n",
    "        if diff < 1 or diff > 3:\n",
    "            increasing = False\n",
    "        # if negative and not out of range\n",
    "        if diff < -3  or diff > -1:\n",
    "            decreasing = False\n",
    "\n",
    "    # if its increasing or decreasing\n",
    "    if increasing or decreasing:\n",
    "        return True\n",
    "    # return false for not in order and valie out of range\n",
    "    else:\n",
    "        return False"
   ]
  },
  {
   "cell_type": "code",
   "execution_count": 7,
   "id": "81fe88b7-f741-4345-8cb6-8fb344174cd3",
   "metadata": {},
   "outputs": [],
   "source": [
    "def is_safe_with_removal(report):\n",
    "    # loop over report\n",
    "    for i in range(len(report)):\n",
    "        # remove i in loop\n",
    "        start = report[:i]\n",
    "        end = report[i+1:]\n",
    "        new_report = start + end\n",
    "        # check new report is safe\n",
    "        if is_report_safe(new_report):\n",
    "            return True\n",
    "    return False"
   ]
  },
  {
   "cell_type": "code",
   "execution_count": 8,
   "id": "bffebe35-b79d-49b4-b544-1260f8aa517b",
   "metadata": {},
   "outputs": [],
   "source": [
    "part_1_safe_reports = []\n",
    "part_2_safe_reports = []\n",
    "for report in reports:\n",
    "    if is_report_safe(report) or is_safe_with_removal(report):\n",
    "        part_2_safe_reports.append(report)\n",
    "    if is_report_safe(report):\n",
    "        part_1_safe_reports.append(report)"
   ]
  },
  {
   "cell_type": "code",
   "execution_count": 9,
   "id": "67c76bc3-a291-4d43-83cb-1b60f502646b",
   "metadata": {},
   "outputs": [
    {
     "name": "stdout",
     "output_type": "stream",
     "text": [
      "Part 1 - Safe reports:  390\n",
      "Part 2 - Safe reports:  439\n"
     ]
    }
   ],
   "source": [
    "print(\"Part 1 - Safe reports: \", len(part_1_safe_reports))\n",
    "print(\"Part 2 - Safe reports: \", len(part_2_safe_reports))"
   ]
  }
 ],
 "metadata": {
  "kernelspec": {
   "display_name": "Python 3 (ipykernel)",
   "language": "python",
   "name": "python3"
  },
  "language_info": {
   "codemirror_mode": {
    "name": "ipython",
    "version": 3
   },
   "file_extension": ".py",
   "mimetype": "text/x-python",
   "name": "python",
   "nbconvert_exporter": "python",
   "pygments_lexer": "ipython3",
   "version": "3.12.7"
  }
 },
 "nbformat": 4,
 "nbformat_minor": 5
}
