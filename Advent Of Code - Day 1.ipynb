{
 "cells": [
  {
   "cell_type": "code",
   "execution_count": 2,
   "id": "3d926659-9ac0-4506-a141-642efdc6a164",
   "metadata": {},
   "outputs": [],
   "source": [
    "input_file = \"AdventOfCode_Day1_input.txt\""
   ]
  },
  {
   "cell_type": "code",
   "execution_count": 3,
   "id": "9fdb9a9d-3ca6-4621-9aae-1d8499d7f40a",
   "metadata": {},
   "outputs": [],
   "source": [
    "# open input file\n",
    "with open(input_file, \"r\") as text_file:\n",
    "    file = text_file.readlines()"
   ]
  },
  {
   "cell_type": "code",
   "execution_count": 4,
   "id": "82218ef8-ec3a-4df7-be67-b0d95142fa15",
   "metadata": {},
   "outputs": [],
   "source": [
    "# Original Lists (UNSORTED)\n",
    "list_a = []\n",
    "list_b = []"
   ]
  },
  {
   "cell_type": "code",
   "execution_count": 5,
   "id": "faf5800b-de1d-4b9b-b185-409e076f408b",
   "metadata": {},
   "outputs": [],
   "source": [
    "# split each line into input file and move to seperate list\n",
    "for line in file:\n",
    "    temp_list = line.split()\n",
    "    int_list = list(map(int, temp_list))\n",
    "    list_a.append(int_list[0])\n",
    "    list_b.append(int_list[1])"
   ]
  },
  {
   "cell_type": "code",
   "execution_count": 6,
   "id": "030291d6-ac83-47e1-ab68-c244dfc5a301",
   "metadata": {},
   "outputs": [],
   "source": [
    "# Sorted lists in ascending order\n",
    "list_a.sort()\n",
    "list_b.sort()"
   ]
  },
  {
   "cell_type": "code",
   "execution_count": 7,
   "id": "3bacdd2b-6a35-49f1-80f8-4344cee5a53c",
   "metadata": {},
   "outputs": [],
   "source": [
    "# list of difference between list a element and list b element\n",
    "diff_list = []\n",
    "for a, b in zip(list_a, list_b):\n",
    "    if a <= b:\n",
    "        diff_list.append(b-a)\n",
    "    else:\n",
    "        diff_list.append(a-b)"
   ]
  },
  {
   "cell_type": "code",
   "execution_count": 8,
   "id": "624332b0-88b6-491c-9427-875fd04b320a",
   "metadata": {},
   "outputs": [
    {
     "name": "stdout",
     "output_type": "stream",
     "text": [
      "2285373\n"
     ]
    }
   ],
   "source": [
    "difference_between_each = sum(diff_list)\n",
    "print(difference_between_each)"
   ]
  },
  {
   "cell_type": "code",
   "execution_count": 23,
   "id": "77c056b3-db1c-464c-b0e7-d200c1176d70",
   "metadata": {},
   "outputs": [
    {
     "name": "stdout",
     "output_type": "stream",
     "text": [
      "21142653\n"
     ]
    }
   ],
   "source": [
    "# Similarity scoring\n",
    "similar_score = []\n",
    "for a in list_a:\n",
    "    count = 0\n",
    "    for b in list_b:\n",
    "        if a == b:\n",
    "            #print(f\"{a} = {b}\")\n",
    "            count+=1\n",
    "    #print(f\"finished looking for {a}, appending {a} x {count} = {a * count}\")\n",
    "    similar_score.append(a * count)\n",
    "\n",
    "print(sum(similar_score))    "
   ]
  },
  {
   "cell_type": "code",
   "execution_count": null,
   "id": "c171f8b0-730c-4577-b0cd-aaad7600f88f",
   "metadata": {},
   "outputs": [],
   "source": []
  }
 ],
 "metadata": {
  "kernelspec": {
   "display_name": "Python 3 (ipykernel)",
   "language": "python",
   "name": "python3"
  },
  "language_info": {
   "codemirror_mode": {
    "name": "ipython",
    "version": 3
   },
   "file_extension": ".py",
   "mimetype": "text/x-python",
   "name": "python",
   "nbconvert_exporter": "python",
   "pygments_lexer": "ipython3",
   "version": "3.12.7"
  }
 },
 "nbformat": 4,
 "nbformat_minor": 5
}
