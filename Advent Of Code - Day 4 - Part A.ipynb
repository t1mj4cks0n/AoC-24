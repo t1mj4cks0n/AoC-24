{
 "cells": [
  {
   "cell_type": "code",
   "execution_count": 2,
   "id": "9ecf235b-c60b-4e54-aa4a-9545425eb7fd",
   "metadata": {},
   "outputs": [],
   "source": [
    "file_input = \"Advent of Code Day 4 input.txt\""
   ]
  },
  {
   "cell_type": "code",
   "execution_count": 3,
   "id": "85e75ae7-a607-400c-bdb1-5418351dd758",
   "metadata": {},
   "outputs": [],
   "source": [
    "# open input file\n",
    "with open(file_input, \"r\") as text_file:\n",
    "    file = text_file.readlines()\n",
    "formatted_file = []\n",
    "for f in file:\n",
    "    formatted_file.append(list(f))"
   ]
  },
  {
   "cell_type": "code",
   "execution_count": 4,
   "id": "032893e9-2cfb-4b4b-a01e-bfc8d64b9623",
   "metadata": {},
   "outputs": [],
   "source": [
    "#for i in formatted_file:\n",
    "#    print(i)"
   ]
  },
  {
   "cell_type": "code",
   "execution_count": 5,
   "id": "f8c0f81e-a9b4-4c8e-9618-d8acedc2fcbc",
   "metadata": {},
   "outputs": [],
   "source": [
    "example_wordsearch = [\n",
    "                    [\"MMMSXXMASM\"],\n",
    "                    [\"MSAMXMSMSA\"],\n",
    "                    [\"AMXSXMAAMM\"],\n",
    "                    [\"MSAMASMSMX\"],\n",
    "                    [\"XMASAMXAMM\"],\n",
    "                    [\"XXAMMXXAMA\"],\n",
    "                    [\"SMSMSASXSS\"],\n",
    "                    [\"SAXAMASAAA\"],\n",
    "                    [\"MAMMMXMMMM\"],\n",
    "                    [\"MXMXAXMASX\"]\n",
    "                    ]\n"
   ]
  },
  {
   "cell_type": "code",
   "execution_count": 6,
   "id": "31b9a5b7-b84d-478d-9f7c-93873a9732f3",
   "metadata": {},
   "outputs": [],
   "source": [
    "example_formatted = []\n",
    "for e in example_wordsearch:\n",
    "    e_list = list(e[0])\n",
    "    example_formatted.append(e_list)"
   ]
  },
  {
   "cell_type": "code",
   "execution_count": 7,
   "id": "a5c93e9f-b234-42c9-bf78-9ca719cb6a47",
   "metadata": {},
   "outputs": [],
   "source": [
    "word_search = formatted_file\n",
    "#print(word_search[9][9])"
   ]
  },
  {
   "cell_type": "code",
   "execution_count": 8,
   "id": "eb23a7bc-000b-46a7-9efe-21a3bc0e8f3d",
   "metadata": {},
   "outputs": [],
   "source": [
    "def calculate_future_positions(current_position):\n",
    "    # number of directions\n",
    "    #directions = [\"North\", \"NorthEast\", \"East\", \"SouthEast\", \"South\", \"SouthWest\", \"West\", \"NorthWest\"]\n",
    "    direction_maps = [[0, -1],[+1, -1], [+1, 0], [+1, +1], [0, +1], [-1, +1], [-1, 0], [-1, -1]]\n",
    "    next_positions = []\n",
    "    for d_map in direction_maps:\n",
    "        direction_list = [current_position]\n",
    "        cur_x, cur_y = current_position\n",
    "        #print(f\"Current Position: {cur_x}, {cur_y}\")\n",
    "        for i in range(3):\n",
    "            new_x = cur_x + d_map[0]\n",
    "            new_y = cur_y + d_map[1]\n",
    "            direction_list.append([new_x, new_y])\n",
    "            cur_x, cur_y = new_x, new_y\n",
    "        next_positions.append(direction_list)\n",
    "    return next_positions"
   ]
  },
  {
   "cell_type": "code",
   "execution_count": 9,
   "id": "d181dcd7-4730-4239-9860-933c626139e9",
   "metadata": {},
   "outputs": [],
   "source": [
    "def is_position_in_range(positions):\n",
    "    for position in positions:\n",
    "        if position[0] < 0 or position[0] > max_x_axis or position[1] < 0 or position[1] > max_y_axis:\n",
    "            return False\n",
    "    return True"
   ]
  },
  {
   "cell_type": "code",
   "execution_count": 10,
   "id": "60fe9735-2c26-4f94-8c7d-c845fdb3e49e",
   "metadata": {},
   "outputs": [],
   "source": [
    "xmas_string = \"XMAS\"\n",
    "xmas_count = 0\n",
    "max_y_axis = len(word_search) - 1\n",
    "max_x_axis = len(word_search[0]) - 1\n",
    "\n",
    "# loop through the lists\n",
    "for y_index, y_lst in enumerate(word_search):\n",
    "    \n",
    "    # loop through the strings\n",
    "    for x_index, x_letter in enumerate(y_lst):\n",
    "        \n",
    "        # find the first letter in the string\n",
    "        if x_letter == xmas_string[0]:\n",
    "            # set variables for start position\n",
    "            start_pos = [x_index, y_index]\n",
    "            #print(f\"{xmas_string[0]} in postion: \", start_pos)\n",
    "            next_positions = calculate_future_positions(start_pos)\n",
    "            \n",
    "            # loop through next positions\n",
    "            for next_pos_direction_list in next_positions:\n",
    "                \n",
    "                # check position not out of bounds\n",
    "                if is_position_in_range(next_pos_direction_list):\n",
    "                    xmas_index = 0\n",
    "                    \n",
    "                    # loop through positions in each next position list\n",
    "                    for future_position in next_pos_direction_list[1:]:\n",
    "                        fp_x, fp_y = future_position\n",
    "                        \n",
    "                        # check letter in wordsearch position is equal to index of xmas_string\n",
    "                        if word_search[fp_y][fp_x] == xmas_string[xmas_index + 1]:\n",
    "                            xmas_index += 1\n",
    "                            \n",
    "                            # check if xmas been found - 1 for already finding x\n",
    "                            if xmas_index == len(xmas_string) - 1:\n",
    "                                xmas_count += 1\n",
    "                                #print(f\"\\n*** XMAS FOUND in {next_pos_direction_list} *** \\n\")\n",
    "                                break\n",
    "                        else:\n",
    "                            break\n",
    "        "
   ]
  },
  {
   "cell_type": "code",
   "execution_count": 11,
   "id": "f1b4bd3a-7aa1-4548-93b8-52c530702038",
   "metadata": {},
   "outputs": [
    {
     "name": "stdout",
     "output_type": "stream",
     "text": [
      "XMAS count: 2454\n"
     ]
    }
   ],
   "source": [
    "print(f\"XMAS count: {xmas_count}\")"
   ]
  }
 ],
 "metadata": {
  "kernelspec": {
   "display_name": "Python 3 (ipykernel)",
   "language": "python",
   "name": "python3"
  },
  "language_info": {
   "codemirror_mode": {
    "name": "ipython",
    "version": 3
   },
   "file_extension": ".py",
   "mimetype": "text/x-python",
   "name": "python",
   "nbconvert_exporter": "python",
   "pygments_lexer": "ipython3",
   "version": "3.12.7"
  }
 },
 "nbformat": 4,
 "nbformat_minor": 5
}
